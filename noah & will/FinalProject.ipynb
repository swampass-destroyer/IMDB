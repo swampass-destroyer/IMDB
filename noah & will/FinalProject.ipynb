{
 "cells": [
  {
   "cell_type": "raw",
   "id": "c8f680ef",
   "metadata": {},
   "source": []
  },
  {
   "cell_type": "markdown",
   "id": "63d869de",
   "metadata": {},
   "source": [
    "<div style=\"\n",
    "    min-height: 90vh;\n",
    "    padding: 20px;\n",
    "    border-radius: 15px;\n",
    "    background: linear-gradient(135deg, #a6cee3, #e0f7fa);\n",
    "\">\n",
    "\n",
    "---\n",
    "\n",
    "\n",
    "# IMDB Analysis of IMDB TV Shows from 1990-2018, Their Ratings and Viewer Trends\n",
    "\n",
    "---\n",
    "\n",
    "## Authors: Noah and Will\n",
    "### Date: Today\n",
    "\n",
    "\n"
   ]
  },
  {
   "cell_type": "markdown",
   "id": "da47f4a8",
   "metadata": {},
   "source": [
    "<div style=\"\n",
    "    min-height: 90vh;\n",
    "    padding: 20px;\n",
    "    border-radius: 15px;\n",
    "    background: linear-gradient(135deg, #d0ebf7, #f0fbfe);\n",
    "\">\n",
    "\n",
    "# Abstract\n",
    "---\n",
    "\n",
    "This project explores **IMDb ratings and viewer trends** to better understand how audience preferences and genre popularity have evolved over time. By analyzing historical data across multiple genres, we aim to identify the most influential patterns shaping TV reception. Through data-driven visualizations and trend analysis, this study uncovers meaningful insights into shifting viewer behaviors, highlighting how cultural, temporal, and genre-based factors contribute to changes in film popularity and audience trends.\n",
    "\n",
    "</div>\n"
   ]
  },
  {
   "cell_type": "code",
   "execution_count": 3,
   "id": "e387e35e",
   "metadata": {
    "jupyter": {
     "source_hidden": true
    }
   },
   "outputs": [],
   "source": [
    "%matplotlib inline\n",
    "import pandas as pd\n",
    "\n",
    "df = pd.read_csv(\"IMDb_Economist_tv_ratings.csv\")\n",
    "\n",
    "# Tranform dates to datetime objects\n",
    "df[\"date\"] = pd.to_datetime(df[\"date\"])\n",
    "\n",
    "# extract the year from datetime object\n",
    "df[\"year\"] = df[\"date\"].dt.year\n",
    "\n",
    "# all genres of individual rows\n",
    "df[\"genres\"] = df[\"genres\"].str.split(\",\")\n",
    "df = df.explode(\"genres\")"
   ]
  },
  {
   "cell_type": "markdown",
   "id": "25295a1b",
   "metadata": {},
   "source": [
    "<div style=\"\n",
    "    min-height: 90vh;\n",
    "    padding: 20px;\n",
    "    border-radius: 15px;\n",
    "    background: linear-gradient(135deg, #d0ebf7, #f0fbfe);\n",
    "\">\n",
    "\n",
    "### Top 5 Show Seasons From 1990-2018\n",
    "    \n",
    "<div style=\"display: flex; justify-content: center; gap: 10px;\">\n",
    "  <div style=\"text-align: center;\">\n",
    "    <img src=\"angel.jpg\" alt=\"Touched by an Angel\" width=\"200\"><br>\n",
    "    Touched by an Angel\n",
    "  </div>\n",
    "  <div style=\"text-align: center;\">\n",
    "    <img src=\"barabra.jpg\" alt=\"Santa Barbara\" width=\"200\"><br>\n",
    "    Santa Barbara\n",
    "  </div>\n",
    "  <div style=\"text-align: center;\">\n",
    "    <img src=\"law.jpg\" alt=\"L.A. Law\" width=\"200\"><br>\n",
    "    L.A. Law\n",
    "  </div>\n",
    "  <div style=\"text-align: center;\">\n",
    "    <img src=\"got.jpg\" alt=\"Game of Thrones\" width=\"200\"><br>\n",
    "    Game of Thrones\n",
    "  </div>\n",
    "  <div style=\"text-align: center;\">\n",
    "    <img src=\"fugitive.jpg\" alt=\"Fugitive Chronicles\" width=\"200\"><br>\n",
    "    Fugitive Chronicles\n",
    "  </div>\n",
    "</div>\n"
   ]
  },
  {
   "cell_type": "code",
   "execution_count": 4,
   "id": "89ef6a11",
   "metadata": {},
   "outputs": [
    {
     "name": "stdout",
     "output_type": "stream",
     "text": [
      "                       title  av_rating  genres  year\n",
      "800      Touched by an Angel   9.600000   Drama  1998\n",
      "576            Santa Barbara   9.400000   Drama  1990\n",
      "379                 L.A. Law   9.350000   Drama  1990\n",
      "270          Game of Thrones   9.265114  Action  2011\n",
      "696  The Fugitive Chronicles   9.200000   Crime  2010\n"
     ]
    }
   ],
   "source": [
    "# Group by show title and compute the average rating over all years\n",
    "overall_perf = (\n",
    "    df.groupby(\"title\", as_index=False)\n",
    "    .agg({\n",
    "        \"av_rating\": \"mean\",   # average rating across all years\n",
    "        \"genres\": \"first\",     # keep one genre (for labeling)\n",
    "        \"year\": \"min\"          # or 'first' — earliest appearance year\n",
    "    })\n",
    ")\n",
    "\n",
    "# Select the top 5 shows overall\n",
    "top5_overall = overall_perf.nlargest(5, \"av_rating\")\n",
    "\n",
    "print(top5_overall)"
   ]
  },
  {
   "cell_type": "markdown",
   "id": "e4e3c369-1265-44a6-8730-586aaaa3c3b0",
   "metadata": {},
   "source": [
    "<div style=\"\n",
    "    min-height: 90vh;\n",
    "    padding: 20px;\n",
    "    border-radius: 15px;\n",
    "    background: linear-gradient(135deg, #d0ebf7, #f0fbfe);\n",
    "\">\n",
    "\n",
    "### Best Performing Genres From 1990-2018\n",
    "    \n",
    "The following analysis identifies the **best-rated TV genre for each year** based on average IMDb ratings.  \n",
    "To achieve this, the dataset was first expanded so that shows belonging to multiple genres were counted under each individual genre.  \n",
    "The average rating (`av_rating`) was then calculated for each combination of year and genre.  \n",
    "Finally, for every year, the single genre with the **highest average rating** was selected, resulting in a clean timeline of the top-performing genres across all years.\n",
    "\n",
    "The resulting figure (see *Figure 1*) visualizes how the top genre changes over time, highlighting shifting audience preferences and trends in television content.  \n",
    "For example, *[insert your observation here — e.g., “Drama dominates the early 2010s, while Documentary becomes more prominent after 2018.”]*  \n",
    "This view provides a concise overview of how viewer tastes evolved according to IMDb data.\n"
   ]
  },
  {
   "cell_type": "code",
   "execution_count": 5,
   "id": "4b5839fa",
   "metadata": {
    "jupyter": {
     "source_hidden": true
    },
    "scrolled": false
   },
   "outputs": [
    {
     "data": {
      "text/html": [
       "<div>\n",
       "<style scoped>\n",
       "    .dataframe tbody tr th:only-of-type {\n",
       "        vertical-align: middle;\n",
       "    }\n",
       "\n",
       "    .dataframe tbody tr th {\n",
       "        vertical-align: top;\n",
       "    }\n",
       "\n",
       "    .dataframe thead th {\n",
       "        text-align: right;\n",
       "    }\n",
       "</style>\n",
       "<table border=\"1\" class=\"dataframe\">\n",
       "  <thead>\n",
       "    <tr style=\"text-align: right;\">\n",
       "      <th></th>\n",
       "      <th>year</th>\n",
       "      <th>genres</th>\n",
       "      <th>av_rating</th>\n",
       "    </tr>\n",
       "  </thead>\n",
       "  <tbody>\n",
       "    <tr>\n",
       "      <th>0</th>\n",
       "      <td>1990</td>\n",
       "      <td>Romance</td>\n",
       "      <td>8.650000</td>\n",
       "    </tr>\n",
       "    <tr>\n",
       "      <th>1</th>\n",
       "      <td>1991</td>\n",
       "      <td>Fantasy</td>\n",
       "      <td>8.703800</td>\n",
       "    </tr>\n",
       "    <tr>\n",
       "      <th>2</th>\n",
       "      <td>1992</td>\n",
       "      <td>Fantasy</td>\n",
       "      <td>8.601900</td>\n",
       "    </tr>\n",
       "    <tr>\n",
       "      <th>3</th>\n",
       "      <td>1993</td>\n",
       "      <td>Fantasy</td>\n",
       "      <td>9.204300</td>\n",
       "    </tr>\n",
       "    <tr>\n",
       "      <th>4</th>\n",
       "      <td>1994</td>\n",
       "      <td>Family</td>\n",
       "      <td>8.687825</td>\n",
       "    </tr>\n",
       "    <tr>\n",
       "      <th>5</th>\n",
       "      <td>1995</td>\n",
       "      <td>Mystery</td>\n",
       "      <td>8.505175</td>\n",
       "    </tr>\n",
       "    <tr>\n",
       "      <th>6</th>\n",
       "      <td>1996</td>\n",
       "      <td>Animation</td>\n",
       "      <td>8.331350</td>\n",
       "    </tr>\n",
       "    <tr>\n",
       "      <th>7</th>\n",
       "      <td>1997</td>\n",
       "      <td>Thriller</td>\n",
       "      <td>8.619500</td>\n",
       "    </tr>\n",
       "    <tr>\n",
       "      <th>8</th>\n",
       "      <td>1998</td>\n",
       "      <td>Family</td>\n",
       "      <td>8.783133</td>\n",
       "    </tr>\n",
       "    <tr>\n",
       "      <th>9</th>\n",
       "      <td>1999</td>\n",
       "      <td>Thriller</td>\n",
       "      <td>8.539300</td>\n",
       "    </tr>\n",
       "    <tr>\n",
       "      <th>10</th>\n",
       "      <td>2000</td>\n",
       "      <td>Thriller</td>\n",
       "      <td>8.613200</td>\n",
       "    </tr>\n",
       "    <tr>\n",
       "      <th>11</th>\n",
       "      <td>2001</td>\n",
       "      <td>History</td>\n",
       "      <td>8.684800</td>\n",
       "    </tr>\n",
       "    <tr>\n",
       "      <th>12</th>\n",
       "      <td>2002</td>\n",
       "      <td>Animation</td>\n",
       "      <td>8.298450</td>\n",
       "    </tr>\n",
       "    <tr>\n",
       "      <th>13</th>\n",
       "      <td>2003</td>\n",
       "      <td>Thriller</td>\n",
       "      <td>8.228680</td>\n",
       "    </tr>\n",
       "    <tr>\n",
       "      <th>14</th>\n",
       "      <td>2004</td>\n",
       "      <td>Sport</td>\n",
       "      <td>8.746600</td>\n",
       "    </tr>\n",
       "    <tr>\n",
       "      <th>15</th>\n",
       "      <td>2005</td>\n",
       "      <td>Sport</td>\n",
       "      <td>8.719800</td>\n",
       "    </tr>\n",
       "    <tr>\n",
       "      <th>16</th>\n",
       "      <td>2006</td>\n",
       "      <td>Sport</td>\n",
       "      <td>9.050200</td>\n",
       "    </tr>\n",
       "    <tr>\n",
       "      <th>17</th>\n",
       "      <td>2007</td>\n",
       "      <td>Horror</td>\n",
       "      <td>8.485000</td>\n",
       "    </tr>\n",
       "    <tr>\n",
       "      <th>18</th>\n",
       "      <td>2008</td>\n",
       "      <td>Sport</td>\n",
       "      <td>8.683767</td>\n",
       "    </tr>\n",
       "    <tr>\n",
       "      <th>19</th>\n",
       "      <td>2009</td>\n",
       "      <td>Sport</td>\n",
       "      <td>8.442967</td>\n",
       "    </tr>\n",
       "    <tr>\n",
       "      <th>20</th>\n",
       "      <td>2010</td>\n",
       "      <td>Horror</td>\n",
       "      <td>8.752800</td>\n",
       "    </tr>\n",
       "    <tr>\n",
       "      <th>21</th>\n",
       "      <td>2011</td>\n",
       "      <td>Sport</td>\n",
       "      <td>8.611500</td>\n",
       "    </tr>\n",
       "    <tr>\n",
       "      <th>22</th>\n",
       "      <td>2012</td>\n",
       "      <td>Fantasy</td>\n",
       "      <td>8.397514</td>\n",
       "    </tr>\n",
       "    <tr>\n",
       "      <th>23</th>\n",
       "      <td>2013</td>\n",
       "      <td>Sport</td>\n",
       "      <td>8.542500</td>\n",
       "    </tr>\n",
       "    <tr>\n",
       "      <th>24</th>\n",
       "      <td>2014</td>\n",
       "      <td>War</td>\n",
       "      <td>8.453800</td>\n",
       "    </tr>\n",
       "    <tr>\n",
       "      <th>25</th>\n",
       "      <td>2015</td>\n",
       "      <td>Family</td>\n",
       "      <td>8.565500</td>\n",
       "    </tr>\n",
       "    <tr>\n",
       "      <th>26</th>\n",
       "      <td>2016</td>\n",
       "      <td>War</td>\n",
       "      <td>9.202200</td>\n",
       "    </tr>\n",
       "    <tr>\n",
       "      <th>27</th>\n",
       "      <td>2017</td>\n",
       "      <td>War</td>\n",
       "      <td>9.131400</td>\n",
       "    </tr>\n",
       "    <tr>\n",
       "      <th>28</th>\n",
       "      <td>2018</td>\n",
       "      <td>Animation</td>\n",
       "      <td>9.473800</td>\n",
       "    </tr>\n",
       "  </tbody>\n",
       "</table>\n",
       "</div>"
      ],
      "text/plain": [
       "    year     genres  av_rating\n",
       "0   1990    Romance   8.650000\n",
       "1   1991    Fantasy   8.703800\n",
       "2   1992    Fantasy   8.601900\n",
       "3   1993    Fantasy   9.204300\n",
       "4   1994     Family   8.687825\n",
       "5   1995    Mystery   8.505175\n",
       "6   1996  Animation   8.331350\n",
       "7   1997   Thriller   8.619500\n",
       "8   1998     Family   8.783133\n",
       "9   1999   Thriller   8.539300\n",
       "10  2000   Thriller   8.613200\n",
       "11  2001    History   8.684800\n",
       "12  2002  Animation   8.298450\n",
       "13  2003   Thriller   8.228680\n",
       "14  2004      Sport   8.746600\n",
       "15  2005      Sport   8.719800\n",
       "16  2006      Sport   9.050200\n",
       "17  2007     Horror   8.485000\n",
       "18  2008      Sport   8.683767\n",
       "19  2009      Sport   8.442967\n",
       "20  2010     Horror   8.752800\n",
       "21  2011      Sport   8.611500\n",
       "22  2012    Fantasy   8.397514\n",
       "23  2013      Sport   8.542500\n",
       "24  2014        War   8.453800\n",
       "25  2015     Family   8.565500\n",
       "26  2016        War   9.202200\n",
       "27  2017        War   9.131400\n",
       "28  2018  Animation   9.473800"
      ]
     },
     "execution_count": 5,
     "metadata": {},
     "output_type": "execute_result"
    }
   ],
   "source": [
    "# TOP GENRE FROM EACH YEAR\n",
    "genre_year_perf = (\n",
    "    df.assign(genres=df['genres'].str.split(','))\n",
    "    .explode('genres')\n",
    "    .groupby([\"year\", \"genres\"])[\"av_rating\"]\n",
    "    .mean()\n",
    "    .reset_index()\n",
    ")\n",
    "\n",
    "# Get the SINGLE top genre for each year\n",
    "top_genre_per_year = (\n",
    "    genre_year_perf\n",
    "    .sort_values([\"year\", \"av_rating\"], ascending=[True, False])\n",
    "    .groupby(\"year\")\n",
    "    .head(1)  # Only get the top 1 genre per year\n",
    "    .reset_index(drop=True)\n",
    ")\n",
    "top_genre_per_year.head(38)"
   ]
  },
  {
   "cell_type": "markdown",
   "id": "e1bec515",
   "metadata": {},
   "source": [
    "<div style=\"\n",
    "    min-height: 90vh;\n",
    "    padding: 20px;\n",
    "    border-radius: 15px;\n",
    "    background: linear-gradient(135deg, #d0ebf7, #f0fbfe);\n",
    "\">\n",
    "    \n",
    "###  Mathematical Representation of Top Genre by Year\n",
    "\n",
    "Let the following definitions hold:\n",
    "\n",
    "$$\n",
    "G = \\{ g_1, g_2, \\dots, g_m \\} \\quad \\text{(set of all movie genres)}\n",
    "$$\n",
    "\n",
    "$$\n",
    "Y = \\{ y_1, y_2, \\dots, y_n \\} \\quad \\text{(set of all years)}\n",
    "$$\n",
    "\n",
    "$$\n",
    "R_{i,j,k} \\text{ — IMDb rating of the } k\\text{th movie released in year } y_i \\text{ belonging to genre } g_j\n",
    "$$\n",
    "\n",
    "$$\n",
    "N_{i,j} \\text{ — number of movies of genre } g_j \\text{ in year } y_i\n",
    "$$\n",
    "\n",
    "The **average rating** for genre \\( g_j \\) in year \\( y_i \\) is:\n",
    "\n",
    "$$\n",
    "\\bar{R}(y_i, g_j)\n",
    "= \\frac{1}{N_{i,j}} \\sum_{k=1}^{N_{i,j}} R_{i,j,k}\n",
    "$$\n",
    "\n",
    "The **top genre** for each year is the one with the highest average rating:\n",
    "\n",
    "$$\n",
    "g^{*}(y_i)\n",
    "= \\operatorname*{arg\\,max}_{g_j \\in G} \\bar{R}(y_i, g_j)\n",
    "$$\n",
    "\n",
    "Hence, the final result can be written as:\n",
    "\n",
    "$$\n",
    "T = \\{ (y_i, g^{*}(y_i), \\bar{R}(y_i, g^{*}(y_i))) \\mid y_i \\in Y \\}\n",
    "$$\n"
   ]
  },
  {
   "cell_type": "markdown",
   "id": "808400ca-bbc0-4bb5-b837-407f6ade6caa",
   "metadata": {},
   "source": [
    "<div style=\"\n",
    "    min-height: 90vh;\n",
    "    padding: 20px;\n",
    "    border-radius: 15px;\n",
    "    background: linear-gradient(135deg, #d0ebf7, #f0fbfe);\n",
    "\">\n",
    "\n",
    "### Top 5 Highest Rated Shows Per Year\n",
    "    \n",
    "To better understand yearly trends in television ratings, we extracted the **top five highest-rated shows for each year** based on their average IMDb ratings.  \n",
    "The dataset was first grouped by year, title, and genre to calculate the mean rating (`av_rating`) for each show.  \n",
    "If a show appeared multiple times within the same year, its average rating was taken to ensure consistency.  \n",
    "From there, only the **top five shows per year** were selected, giving a clear picture of which series performed best annually.\n",
    "\n",
    "The results are visualized in *Figure 2*, which presents a bar chart of the top five shows for every year.  \n",
    "Each bar represents one show, with colors corresponding to different years.  \n",
    "The chart provides insight into how audience preferences evolved over time and which titles stood out in their respective years.  \n",
    " *[You can add an observation here, e.g., “Comedy and drama shows consistently appear in the top five, while newer genres gain visibility in later years.”]*  \n",
    "This visualization makes it easy to identify standout titles and compare shifts in popularity across the years.\n"
   ]
  },
  {
   "cell_type": "code",
   "execution_count": 8,
   "id": "cac47070",
   "metadata": {
    "scrolled": false
   },
   "outputs": [
    {
     "data": {
      "application/vnd.plotly.v1+json": {
       "config": {
        "plotlyServerURL": "https://plot.ly"
       },
       "data": [
        {
         "alignmentgroup": "True",
         "hovertemplate": "year_str=1990<br>title_year=%{x}<br>av_rating=%{y}<extra></extra>",
         "legendgroup": "1990",
         "marker": {
          "color": "#636efa",
          "pattern": {
           "shape": ""
          }
         },
         "name": "1990",
         "offsetgroup": "1990",
         "orientation": "v",
         "showlegend": true,
         "textposition": "auto",
         "type": "bar",
         "x": [
          "1990 - Parenthood",
          "1990 - L.A. Law",
          "1990 - Santa Barbara",
          "1990 - The Outsiders",
          "1990 - Twin Peaks"
         ],
         "xaxis": "x",
         "y": [
          9.6824,
          9.4,
          9.4,
          8.9,
          8.7429
         ],
         "yaxis": "y"
        },
        {
         "alignmentgroup": "True",
         "hovertemplate": "year_str=1991<br>title_year=%{x}<br>av_rating=%{y}<extra></extra>",
         "legendgroup": "1991",
         "marker": {
          "color": "#EF553B",
          "pattern": {
           "shape": ""
          }
         },
         "name": "1991",
         "offsetgroup": "1991",
         "orientation": "v",
         "showlegend": true,
         "textposition": "auto",
         "type": "bar",
         "x": [
          "1991 - L.A. Law",
          "1991 - Northern Exposure",
          "1991 - The Wonder Years",
          "1991 - Twin Peaks",
          "1991 - American Playhouse"
         ],
         "xaxis": "x",
         "y": [
          9.3,
          8.7038,
          8.5049,
          8.4187,
          8.4
         ],
         "yaxis": "y"
        },
        {
         "alignmentgroup": "True",
         "hovertemplate": "year_str=1992<br>title_year=%{x}<br>av_rating=%{y}<extra></extra>",
         "legendgroup": "1992",
         "marker": {
          "color": "#00cc96",
          "pattern": {
           "shape": ""
          }
         },
         "name": "1992",
         "offsetgroup": "1992",
         "orientation": "v",
         "showlegend": true,
         "textposition": "auto",
         "type": "bar",
         "x": [
          "1992 - Northern Exposure",
          "1992 - The Wonder Years",
          "1992 - Quantum Leap",
          "1992 - Cheers",
          "1992 - Law & Order"
         ],
         "xaxis": "x",
         "y": [
          8.6019,
          8.2858,
          7.883,
          7.7525,
          7.637800000000001
         ],
         "yaxis": "y"
        },
        {
         "alignmentgroup": "True",
         "hovertemplate": "year_str=1993<br>title_year=%{x}<br>av_rating=%{y}<extra></extra>",
         "legendgroup": "1993",
         "marker": {
          "color": "#ab63fa",
          "pattern": {
           "shape": ""
          }
         },
         "name": "1993",
         "offsetgroup": "1993",
         "orientation": "v",
         "showlegend": true,
         "textposition": "auto",
         "type": "bar",
         "x": [
          "1993 - Are You Afraid of the Dark?",
          "1993 - Return to Lonesome Dove",
          "1993 - NYPD Blue",
          "1993 - Homicide: Life on the Street",
          "1993 - Cheers"
         ],
         "xaxis": "x",
         "y": [
          9.2043,
          8.9671,
          8.3153,
          8.3121,
          7.9578
         ],
         "yaxis": "y"
        },
        {
         "alignmentgroup": "True",
         "hovertemplate": "year_str=1994<br>title_year=%{x}<br>av_rating=%{y}<extra></extra>",
         "legendgroup": "1994",
         "marker": {
          "color": "#FFA15A",
          "pattern": {
           "shape": ""
          }
         },
         "name": "1994",
         "offsetgroup": "1994",
         "orientation": "v",
         "showlegend": true,
         "textposition": "auto",
         "type": "bar",
         "x": [
          "1994 - Are You Afraid of the Dark?",
          "1994 - Homicide: Life on the Street",
          "1994 - The Critic",
          "1994 - My So-Called Life",
          "1994 - The Kingdom"
         ],
         "xaxis": "x",
         "y": [
          9.3723,
          8.729099999999999,
          8.6,
          8.5152,
          8.0295
         ],
         "yaxis": "y"
        },
        {
         "alignmentgroup": "True",
         "hovertemplate": "year_str=1995<br>title_year=%{x}<br>av_rating=%{y}<extra></extra>",
         "legendgroup": "1995",
         "marker": {
          "color": "#19d3f3",
          "pattern": {
           "shape": ""
          }
         },
         "name": "1995",
         "offsetgroup": "1995",
         "orientation": "v",
         "showlegend": true,
         "textposition": "auto",
         "type": "bar",
         "x": [
          "1995 - Homicide: Life on the Street",
          "1995 - Strange Luck",
          "1995 - Are You Afraid of the Dark?",
          "1995 - Pride and Prejudice",
          "1995 - The X-Files"
         ],
         "xaxis": "x",
         "y": [
          9.1,
          9,
          8.9533,
          8.2608,
          8.1062
         ],
         "yaxis": "y"
        },
        {
         "alignmentgroup": "True",
         "hovertemplate": "year_str=1996<br>title_year=%{x}<br>av_rating=%{y}<extra></extra>",
         "legendgroup": "1996",
         "marker": {
          "color": "#FF6692",
          "pattern": {
           "shape": ""
          }
         },
         "name": "1996",
         "offsetgroup": "1996",
         "orientation": "v",
         "showlegend": true,
         "textposition": "auto",
         "type": "bar",
         "x": [
          "1996 - EZ Streets",
          "1996 - Babylon 5",
          "1996 - Hey Arnold!",
          "1996 - The X-Files",
          "1996 - Neon Genesis Evangelion"
         ],
         "xaxis": "x",
         "y": [
          8.9,
          8.462,
          8.4119,
          8.2933,
          8.2508
         ],
         "yaxis": "y"
        },
        {
         "alignmentgroup": "True",
         "hovertemplate": "year_str=1997<br>title_year=%{x}<br>av_rating=%{y}<extra></extra>",
         "legendgroup": "1997",
         "marker": {
          "color": "#B6E880",
          "pattern": {
           "shape": ""
          }
         },
         "name": "1997",
         "offsetgroup": "1997",
         "orientation": "v",
         "showlegend": true,
         "textposition": "auto",
         "type": "bar",
         "x": [
          "1997 - Homicide: Life on the Street",
          "1997 - Oz",
          "1997 - Pacific Blue",
          "1997 - Babylon 5",
          "1997 - Boy Meets World"
         ],
         "xaxis": "x",
         "y": [
          9.6,
          8.6195,
          8.5,
          8.4828,
          8.2971
         ],
         "yaxis": "y"
        },
        {
         "alignmentgroup": "True",
         "hovertemplate": "year_str=1998<br>title_year=%{x}<br>av_rating=%{y}<extra></extra>",
         "legendgroup": "1998",
         "marker": {
          "color": "#FF97FF",
          "pattern": {
           "shape": ""
          }
         },
         "name": "1998",
         "offsetgroup": "1998",
         "orientation": "v",
         "showlegend": true,
         "textposition": "auto",
         "type": "bar",
         "x": [
          "1998 - Touched by an Angel",
          "1998 - The X-Files",
          "1998 - Boy Meets World",
          "1998 - Felicity",
          "1998 - Oz"
         ],
         "xaxis": "x",
         "y": [
          9.6,
          8.4239,
          8.3747,
          8.3,
          8.2769
         ],
         "yaxis": "y"
        },
        {
         "alignmentgroup": "True",
         "hovertemplate": "year_str=1999<br>title_year=%{x}<br>av_rating=%{y}<extra></extra>",
         "legendgroup": "1999",
         "marker": {
          "color": "#FECB52",
          "pattern": {
           "shape": ""
          }
         },
         "name": "1999",
         "offsetgroup": "1999",
         "orientation": "v",
         "showlegend": true,
         "textposition": "auto",
         "type": "bar",
         "x": [
          "1999 - The Sopranos",
          "1999 - Buffy the Vampire Slayer",
          "1999 - The West Wing",
          "1999 - Oz",
          "1999 - The X-Files"
         ],
         "xaxis": "x",
         "y": [
          8.7453,
          8.6233,
          8.6148,
          8.5393,
          8.418
         ],
         "yaxis": "y"
        },
        {
         "alignmentgroup": "True",
         "hovertemplate": "year_str=2000<br>title_year=%{x}<br>av_rating=%{y}<extra></extra>",
         "legendgroup": "2000",
         "marker": {
          "color": "#636efa",
          "pattern": {
           "shape": ""
          }
         },
         "name": "2000",
         "offsetgroup": "2000",
         "orientation": "v",
         "showlegend": true,
         "textposition": "auto",
         "type": "bar",
         "x": [
          "2000 - Freaks and Geeks",
          "2000 - Law & Order: Special Victims Unit",
          "2000 - The Sopranos",
          "2000 - Oz",
          "2000 - The Corner"
         ],
         "xaxis": "x",
         "y": [
          8.805,
          8.7941,
          8.761,
          8.6132,
          8.5538
         ],
         "yaxis": "y"
        },
        {
         "alignmentgroup": "True",
         "hovertemplate": "year_str=2001<br>title_year=%{x}<br>av_rating=%{y}<extra></extra>",
         "legendgroup": "2001",
         "marker": {
          "color": "#EF553B",
          "pattern": {
           "shape": ""
          }
         },
         "name": "2001",
         "offsetgroup": "2001",
         "orientation": "v",
         "showlegend": true,
         "textposition": "auto",
         "type": "bar",
         "x": [
          "2001 - The Sopranos",
          "2001 - Law & Order: Special Victims Unit",
          "2001 - The West Wing",
          "2001 - Queer as Folk",
          "2001 - Band of Brothers"
         ],
         "xaxis": "x",
         "y": [
          8.8828,
          8.8658,
          8.8406,
          8.8202,
          8.6848
         ],
         "yaxis": "y"
        },
        {
         "alignmentgroup": "True",
         "hovertemplate": "year_str=2002<br>title_year=%{x}<br>av_rating=%{y}<extra></extra>",
         "legendgroup": "2002",
         "marker": {
          "color": "#00cc96",
          "pattern": {
           "shape": ""
          }
         },
         "name": "2002",
         "offsetgroup": "2002",
         "orientation": "v",
         "showlegend": true,
         "textposition": "auto",
         "type": "bar",
         "x": [
          "2002 - Law & Order: Special Victims Unit",
          "2002 - Hey Arnold!",
          "2002 - John Doe",
          "2002 - Firefly",
          "2002 - Queer as Folk"
         ],
         "xaxis": "x",
         "y": [
          8.9148,
          8.8,
          8.8,
          8.6716,
          8.6326
         ],
         "yaxis": "y"
        },
        {
         "alignmentgroup": "True",
         "hovertemplate": "year_str=2003<br>title_year=%{x}<br>av_rating=%{y}<extra></extra>",
         "legendgroup": "2003",
         "marker": {
          "color": "#ab63fa",
          "pattern": {
           "shape": ""
          }
         },
         "name": "2003",
         "offsetgroup": "2003",
         "orientation": "v",
         "showlegend": true,
         "textposition": "auto",
         "type": "bar",
         "x": [
          "2003 - Law & Order: Special Victims Unit",
          "2003 - 24",
          "2003 - The District",
          "2003 - 8 Simple Rules",
          "2003 - Oz"
         ],
         "xaxis": "x",
         "y": [
          8.9431,
          8.7028,
          8.6761,
          8.6,
          8.5751
         ],
         "yaxis": "y"
        },
        {
         "alignmentgroup": "True",
         "hovertemplate": "year_str=2004<br>title_year=%{x}<br>av_rating=%{y}<extra></extra>",
         "legendgroup": "2004",
         "marker": {
          "color": "#FFA15A",
          "pattern": {
           "shape": ""
          }
         },
         "name": "2004",
         "offsetgroup": "2004",
         "orientation": "v",
         "showlegend": true,
         "textposition": "auto",
         "type": "bar",
         "x": [
          "2004 - Karen Sisco",
          "2004 - Law & Order: Special Victims Unit",
          "2004 - Angel",
          "2004 - Crossing Jordan",
          "2004 - The Sopranos"
         ],
         "xaxis": "x",
         "y": [
          9,
          8.9025,
          8.8922,
          8.8,
          8.7864
         ],
         "yaxis": "y"
        },
        {
         "alignmentgroup": "True",
         "hovertemplate": "year_str=2005<br>title_year=%{x}<br>av_rating=%{y}<extra></extra>",
         "legendgroup": "2005",
         "marker": {
          "color": "#19d3f3",
          "pattern": {
           "shape": ""
          }
         },
         "name": "2005",
         "offsetgroup": "2005",
         "orientation": "v",
         "showlegend": true,
         "textposition": "auto",
         "type": "bar",
         "x": [
          "2005 - Third Watch",
          "2005 - JAG",
          "2005 - Prison Break",
          "2005 - Law & Order: Special Victims Unit",
          "2005 - Six Feet Under"
         ],
         "xaxis": "x",
         "y": [
          9.4,
          9,
          8.9562,
          8.9446,
          8.9258
         ],
         "yaxis": "y"
        },
        {
         "alignmentgroup": "True",
         "hovertemplate": "year_str=2006<br>title_year=%{x}<br>av_rating=%{y}<extra></extra>",
         "legendgroup": "2006",
         "marker": {
          "color": "#FF6692",
          "pattern": {
           "shape": ""
          }
         },
         "name": "2006",
         "offsetgroup": "2006",
         "orientation": "v",
         "showlegend": true,
         "textposition": "auto",
         "type": "bar",
         "x": [
          "2006 - One Tree Hill",
          "2006 - Dexter",
          "2006 - Law & Order: Special Victims Unit",
          "2006 - Grey's Anatomy",
          "2006 - 24"
         ],
         "xaxis": "x",
         "y": [
          9.0502,
          8.9229,
          8.91855,
          8.7868,
          8.7828
         ],
         "yaxis": "y"
        },
        {
         "alignmentgroup": "True",
         "hovertemplate": "year_str=2007<br>title_year=%{x}<br>av_rating=%{y}<extra></extra>",
         "legendgroup": "2007",
         "marker": {
          "color": "#B6E880",
          "pattern": {
           "shape": ""
          }
         },
         "name": "2007",
         "offsetgroup": "2007",
         "orientation": "v",
         "showlegend": true,
         "textposition": "auto",
         "type": "bar",
         "x": [
          "2007 - One Tree Hill",
          "2007 - Dexter",
          "2007 - Law & Order: Special Victims Unit",
          "2007 - Supernatural",
          "2007 - Lost"
         ],
         "xaxis": "x",
         "y": [
          9.0517,
          8.9288,
          8.8891,
          8.8329,
          8.7549
         ],
         "yaxis": "y"
        },
        {
         "alignmentgroup": "True",
         "hovertemplate": "year_str=2008<br>title_year=%{x}<br>av_rating=%{y}<extra></extra>",
         "legendgroup": "2008",
         "marker": {
          "color": "#FF97FF",
          "pattern": {
           "shape": ""
          }
         },
         "name": "2008",
         "offsetgroup": "2008",
         "orientation": "v",
         "showlegend": true,
         "textposition": "auto",
         "type": "bar",
         "x": [
          "2008 - House",
          "2008 - Lost",
          "2008 - One Tree Hill",
          "2008 - Supernatural",
          "2008 - Breaking Bad"
         ],
         "xaxis": "x",
         "y": [
          9.0595,
          8.9385,
          8.820900000000002,
          8.7794,
          8.711
         ],
         "yaxis": "y"
        },
        {
         "alignmentgroup": "True",
         "hovertemplate": "year_str=2009<br>title_year=%{x}<br>av_rating=%{y}<extra></extra>",
         "legendgroup": "2009",
         "marker": {
          "color": "#FECB52",
          "pattern": {
           "shape": ""
          }
         },
         "name": "2009",
         "offsetgroup": "2009",
         "orientation": "v",
         "showlegend": true,
         "textposition": "auto",
         "type": "bar",
         "x": [
          "2009 - Dexter",
          "2009 - Grey's Anatomy",
          "2009 - Law & Order: Special Victims Unit",
          "2009 - Supernatural",
          "2009 - Torchwood"
         ],
         "xaxis": "x",
         "y": [
          9.1477,
          8.9359,
          8.9351,
          8.9288,
          8.9243
         ],
         "yaxis": "y"
        },
        {
         "alignmentgroup": "True",
         "hovertemplate": "year_str=2010<br>title_year=%{x}<br>av_rating=%{y}<extra></extra>",
         "legendgroup": "2010",
         "marker": {
          "color": "#636efa",
          "pattern": {
           "shape": ""
          }
         },
         "name": "2010",
         "offsetgroup": "2010",
         "orientation": "v",
         "showlegend": true,
         "textposition": "auto",
         "type": "bar",
         "x": [
          "2010 - The Fugitive Chronicles",
          "2010 - Supernatural",
          "2010 - Chuck",
          "2010 - Law & Order: Special Victims Unit",
          "2010 - Mad Men"
         ],
         "xaxis": "x",
         "y": [
          9.2,
          9.075,
          8.9672,
          8.886,
          8.8468
         ],
         "yaxis": "y"
        },
        {
         "alignmentgroup": "True",
         "hovertemplate": "year_str=2011<br>title_year=%{x}<br>av_rating=%{y}<extra></extra>",
         "legendgroup": "2011",
         "marker": {
          "color": "#EF553B",
          "pattern": {
           "shape": ""
          }
         },
         "name": "2011",
         "offsetgroup": "2011",
         "orientation": "v",
         "showlegend": true,
         "textposition": "auto",
         "type": "bar",
         "x": [
          "2011 - Greek",
          "2011 - Rescue Me",
          "2011 - Game of Thrones",
          "2011 - Breaking Bad",
          "2011 - Brothers & Sisters"
         ],
         "xaxis": "x",
         "y": [
          9.4,
          9.2,
          9.1268,
          9.1069,
          9.1
         ],
         "yaxis": "y"
        },
        {
         "alignmentgroup": "True",
         "hovertemplate": "year_str=2012<br>title_year=%{x}<br>av_rating=%{y}<extra></extra>",
         "legendgroup": "2012",
         "marker": {
          "color": "#00cc96",
          "pattern": {
           "shape": ""
          }
         },
         "name": "2012",
         "offsetgroup": "2012",
         "orientation": "v",
         "showlegend": true,
         "textposition": "auto",
         "type": "bar",
         "x": [
          "2012 - Sherlock",
          "2012 - Game of Thrones",
          "2012 - One Tree Hill",
          "2012 - Dexter",
          "2012 - Hustle"
         ],
         "xaxis": "x",
         "y": [
          9.3184,
          9.0852,
          8.9767,
          8.9068,
          8.9
         ],
         "yaxis": "y"
        },
        {
         "alignmentgroup": "True",
         "hovertemplate": "year_str=2013<br>title_year=%{x}<br>av_rating=%{y}<extra></extra>",
         "legendgroup": "2013",
         "marker": {
          "color": "#ab63fa",
          "pattern": {
           "shape": ""
          }
         },
         "name": "2013",
         "offsetgroup": "2013",
         "orientation": "v",
         "showlegend": true,
         "textposition": "auto",
         "type": "bar",
         "x": [
          "2013 - Breaking Bad",
          "2013 - Game of Thrones",
          "2013 - Teen Wolf",
          "2013 - Person of Interest",
          "2013 - Switched at Birth"
         ],
         "xaxis": "x",
         "y": [
          9.554,
          9.2876,
          9.0827,
          9.0027,
          8.9658
         ],
         "yaxis": "y"
        },
        {
         "alignmentgroup": "True",
         "hovertemplate": "year_str=2014<br>title_year=%{x}<br>av_rating=%{y}<extra></extra>",
         "legendgroup": "2014",
         "marker": {
          "color": "#FFA15A",
          "pattern": {
           "shape": ""
          }
         },
         "name": "2014",
         "offsetgroup": "2014",
         "orientation": "v",
         "showlegend": true,
         "textposition": "auto",
         "type": "bar",
         "x": [
          "2014 - Game of Thrones",
          "2014 - When Calls the Heart",
          "2014 - True Detective",
          "2014 - Hannibal",
          "2014 - Person of Interest"
         ],
         "xaxis": "x",
         "y": [
          9.4282,
          9.3765,
          9.3313,
          9.2883,
          9.2324
         ],
         "yaxis": "y"
        },
        {
         "alignmentgroup": "True",
         "hovertemplate": "year_str=2015<br>title_year=%{x}<br>av_rating=%{y}<extra></extra>",
         "legendgroup": "2015",
         "marker": {
          "color": "#19d3f3",
          "pattern": {
           "shape": ""
          }
         },
         "name": "2015",
         "offsetgroup": "2015",
         "orientation": "v",
         "showlegend": true,
         "textposition": "auto",
         "type": "bar",
         "x": [
          "2015 - When Calls the Heart",
          "2015 - Suits",
          "2015 - The Leftovers",
          "2015 - Wentworth",
          "2015 - Code Black"
         ],
         "xaxis": "x",
         "y": [
          9.3873,
          9.3501,
          9.2501,
          9.233,
          9.2223
         ],
         "yaxis": "y"
        },
        {
         "alignmentgroup": "True",
         "hovertemplate": "year_str=2016<br>title_year=%{x}<br>av_rating=%{y}<extra></extra>",
         "legendgroup": "2016",
         "marker": {
          "color": "#FF6692",
          "pattern": {
           "shape": ""
          }
         },
         "name": "2016",
         "offsetgroup": "2016",
         "orientation": "v",
         "showlegend": true,
         "textposition": "auto",
         "type": "bar",
         "x": [
          "2016 - Game of Thrones",
          "2016 - When Calls the Heart",
          "2016 - Person of Interest",
          "2016 - Wentworth",
          "2016 - Code Black"
         ],
         "xaxis": "x",
         "y": [
          9.4943,
          9.3239,
          9.3189,
          9.2945,
          9.2572
         ],
         "yaxis": "y"
        },
        {
         "alignmentgroup": "True",
         "hovertemplate": "year_str=2017<br>title_year=%{x}<br>av_rating=%{y}<extra></extra>",
         "legendgroup": "2017",
         "marker": {
          "color": "#B6E880",
          "pattern": {
           "shape": ""
          }
         },
         "name": "2017",
         "offsetgroup": "2017",
         "orientation": "v",
         "showlegend": true,
         "textposition": "auto",
         "type": "bar",
         "x": [
          "2017 - Kingdom",
          "2017 - Game of Thrones",
          "2017 - Mr. Robot",
          "2017 - The Leftovers",
          "2017 - Peaky Blinders"
         ],
         "xaxis": "x",
         "y": [
          9.3769,
          9.3014,
          9.28,
          9.2791,
          9.1801
         ],
         "yaxis": "y"
        },
        {
         "alignmentgroup": "True",
         "hovertemplate": "year_str=2018<br>title_year=%{x}<br>av_rating=%{y}<extra></extra>",
         "legendgroup": "2018",
         "marker": {
          "color": "#FF97FF",
          "pattern": {
           "shape": ""
          }
         },
         "name": "2018",
         "offsetgroup": "2018",
         "orientation": "v",
         "showlegend": true,
         "textposition": "auto",
         "type": "bar",
         "x": [
          "2018 - BoJack Horseman",
          "2018 - The Americans",
          "2018 - The Expanse",
          "2018 - 12 Monkeys",
          "2018 - The 100"
         ],
         "xaxis": "x",
         "y": [
          9.4738,
          9.2232,
          9.1892,
          9.1363,
          9.0654
         ],
         "yaxis": "y"
        }
       ],
       "layout": {
        "barmode": "relative",
        "height": 500,
        "legend": {
         "title": {
          "text": "year_str"
         },
         "tracegroupgap": 0
        },
        "template": {
         "data": {
          "bar": [
           {
            "error_x": {
             "color": "#2a3f5f"
            },
            "error_y": {
             "color": "#2a3f5f"
            },
            "marker": {
             "line": {
              "color": "#E5ECF6",
              "width": 0.5
             },
             "pattern": {
              "fillmode": "overlay",
              "size": 10,
              "solidity": 0.2
             }
            },
            "type": "bar"
           }
          ],
          "barpolar": [
           {
            "marker": {
             "line": {
              "color": "#E5ECF6",
              "width": 0.5
             },
             "pattern": {
              "fillmode": "overlay",
              "size": 10,
              "solidity": 0.2
             }
            },
            "type": "barpolar"
           }
          ],
          "carpet": [
           {
            "aaxis": {
             "endlinecolor": "#2a3f5f",
             "gridcolor": "white",
             "linecolor": "white",
             "minorgridcolor": "white",
             "startlinecolor": "#2a3f5f"
            },
            "baxis": {
             "endlinecolor": "#2a3f5f",
             "gridcolor": "white",
             "linecolor": "white",
             "minorgridcolor": "white",
             "startlinecolor": "#2a3f5f"
            },
            "type": "carpet"
           }
          ],
          "choropleth": [
           {
            "colorbar": {
             "outlinewidth": 0,
             "ticks": ""
            },
            "type": "choropleth"
           }
          ],
          "contour": [
           {
            "colorbar": {
             "outlinewidth": 0,
             "ticks": ""
            },
            "colorscale": [
             [
              0,
              "#0d0887"
             ],
             [
              0.1111111111111111,
              "#46039f"
             ],
             [
              0.2222222222222222,
              "#7201a8"
             ],
             [
              0.3333333333333333,
              "#9c179e"
             ],
             [
              0.4444444444444444,
              "#bd3786"
             ],
             [
              0.5555555555555556,
              "#d8576b"
             ],
             [
              0.6666666666666666,
              "#ed7953"
             ],
             [
              0.7777777777777778,
              "#fb9f3a"
             ],
             [
              0.8888888888888888,
              "#fdca26"
             ],
             [
              1,
              "#f0f921"
             ]
            ],
            "type": "contour"
           }
          ],
          "contourcarpet": [
           {
            "colorbar": {
             "outlinewidth": 0,
             "ticks": ""
            },
            "type": "contourcarpet"
           }
          ],
          "heatmap": [
           {
            "colorbar": {
             "outlinewidth": 0,
             "ticks": ""
            },
            "colorscale": [
             [
              0,
              "#0d0887"
             ],
             [
              0.1111111111111111,
              "#46039f"
             ],
             [
              0.2222222222222222,
              "#7201a8"
             ],
             [
              0.3333333333333333,
              "#9c179e"
             ],
             [
              0.4444444444444444,
              "#bd3786"
             ],
             [
              0.5555555555555556,
              "#d8576b"
             ],
             [
              0.6666666666666666,
              "#ed7953"
             ],
             [
              0.7777777777777778,
              "#fb9f3a"
             ],
             [
              0.8888888888888888,
              "#fdca26"
             ],
             [
              1,
              "#f0f921"
             ]
            ],
            "type": "heatmap"
           }
          ],
          "heatmapgl": [
           {
            "colorbar": {
             "outlinewidth": 0,
             "ticks": ""
            },
            "colorscale": [
             [
              0,
              "#0d0887"
             ],
             [
              0.1111111111111111,
              "#46039f"
             ],
             [
              0.2222222222222222,
              "#7201a8"
             ],
             [
              0.3333333333333333,
              "#9c179e"
             ],
             [
              0.4444444444444444,
              "#bd3786"
             ],
             [
              0.5555555555555556,
              "#d8576b"
             ],
             [
              0.6666666666666666,
              "#ed7953"
             ],
             [
              0.7777777777777778,
              "#fb9f3a"
             ],
             [
              0.8888888888888888,
              "#fdca26"
             ],
             [
              1,
              "#f0f921"
             ]
            ],
            "type": "heatmapgl"
           }
          ],
          "histogram": [
           {
            "marker": {
             "pattern": {
              "fillmode": "overlay",
              "size": 10,
              "solidity": 0.2
             }
            },
            "type": "histogram"
           }
          ],
          "histogram2d": [
           {
            "colorbar": {
             "outlinewidth": 0,
             "ticks": ""
            },
            "colorscale": [
             [
              0,
              "#0d0887"
             ],
             [
              0.1111111111111111,
              "#46039f"
             ],
             [
              0.2222222222222222,
              "#7201a8"
             ],
             [
              0.3333333333333333,
              "#9c179e"
             ],
             [
              0.4444444444444444,
              "#bd3786"
             ],
             [
              0.5555555555555556,
              "#d8576b"
             ],
             [
              0.6666666666666666,
              "#ed7953"
             ],
             [
              0.7777777777777778,
              "#fb9f3a"
             ],
             [
              0.8888888888888888,
              "#fdca26"
             ],
             [
              1,
              "#f0f921"
             ]
            ],
            "type": "histogram2d"
           }
          ],
          "histogram2dcontour": [
           {
            "colorbar": {
             "outlinewidth": 0,
             "ticks": ""
            },
            "colorscale": [
             [
              0,
              "#0d0887"
             ],
             [
              0.1111111111111111,
              "#46039f"
             ],
             [
              0.2222222222222222,
              "#7201a8"
             ],
             [
              0.3333333333333333,
              "#9c179e"
             ],
             [
              0.4444444444444444,
              "#bd3786"
             ],
             [
              0.5555555555555556,
              "#d8576b"
             ],
             [
              0.6666666666666666,
              "#ed7953"
             ],
             [
              0.7777777777777778,
              "#fb9f3a"
             ],
             [
              0.8888888888888888,
              "#fdca26"
             ],
             [
              1,
              "#f0f921"
             ]
            ],
            "type": "histogram2dcontour"
           }
          ],
          "mesh3d": [
           {
            "colorbar": {
             "outlinewidth": 0,
             "ticks": ""
            },
            "type": "mesh3d"
           }
          ],
          "parcoords": [
           {
            "line": {
             "colorbar": {
              "outlinewidth": 0,
              "ticks": ""
             }
            },
            "type": "parcoords"
           }
          ],
          "pie": [
           {
            "automargin": true,
            "type": "pie"
           }
          ],
          "scatter": [
           {
            "fillpattern": {
             "fillmode": "overlay",
             "size": 10,
             "solidity": 0.2
            },
            "type": "scatter"
           }
          ],
          "scatter3d": [
           {
            "line": {
             "colorbar": {
              "outlinewidth": 0,
              "ticks": ""
             }
            },
            "marker": {
             "colorbar": {
              "outlinewidth": 0,
              "ticks": ""
             }
            },
            "type": "scatter3d"
           }
          ],
          "scattercarpet": [
           {
            "marker": {
             "colorbar": {
              "outlinewidth": 0,
              "ticks": ""
             }
            },
            "type": "scattercarpet"
           }
          ],
          "scattergeo": [
           {
            "marker": {
             "colorbar": {
              "outlinewidth": 0,
              "ticks": ""
             }
            },
            "type": "scattergeo"
           }
          ],
          "scattergl": [
           {
            "marker": {
             "colorbar": {
              "outlinewidth": 0,
              "ticks": ""
             }
            },
            "type": "scattergl"
           }
          ],
          "scattermapbox": [
           {
            "marker": {
             "colorbar": {
              "outlinewidth": 0,
              "ticks": ""
             }
            },
            "type": "scattermapbox"
           }
          ],
          "scatterpolar": [
           {
            "marker": {
             "colorbar": {
              "outlinewidth": 0,
              "ticks": ""
             }
            },
            "type": "scatterpolar"
           }
          ],
          "scatterpolargl": [
           {
            "marker": {
             "colorbar": {
              "outlinewidth": 0,
              "ticks": ""
             }
            },
            "type": "scatterpolargl"
           }
          ],
          "scatterternary": [
           {
            "marker": {
             "colorbar": {
              "outlinewidth": 0,
              "ticks": ""
             }
            },
            "type": "scatterternary"
           }
          ],
          "surface": [
           {
            "colorbar": {
             "outlinewidth": 0,
             "ticks": ""
            },
            "colorscale": [
             [
              0,
              "#0d0887"
             ],
             [
              0.1111111111111111,
              "#46039f"
             ],
             [
              0.2222222222222222,
              "#7201a8"
             ],
             [
              0.3333333333333333,
              "#9c179e"
             ],
             [
              0.4444444444444444,
              "#bd3786"
             ],
             [
              0.5555555555555556,
              "#d8576b"
             ],
             [
              0.6666666666666666,
              "#ed7953"
             ],
             [
              0.7777777777777778,
              "#fb9f3a"
             ],
             [
              0.8888888888888888,
              "#fdca26"
             ],
             [
              1,
              "#f0f921"
             ]
            ],
            "type": "surface"
           }
          ],
          "table": [
           {
            "cells": {
             "fill": {
              "color": "#EBF0F8"
             },
             "line": {
              "color": "white"
             }
            },
            "header": {
             "fill": {
              "color": "#C8D4E3"
             },
             "line": {
              "color": "white"
             }
            },
            "type": "table"
           }
          ]
         },
         "layout": {
          "annotationdefaults": {
           "arrowcolor": "#2a3f5f",
           "arrowhead": 0,
           "arrowwidth": 1
          },
          "autotypenumbers": "strict",
          "coloraxis": {
           "colorbar": {
            "outlinewidth": 0,
            "ticks": ""
           }
          },
          "colorscale": {
           "diverging": [
            [
             0,
             "#8e0152"
            ],
            [
             0.1,
             "#c51b7d"
            ],
            [
             0.2,
             "#de77ae"
            ],
            [
             0.3,
             "#f1b6da"
            ],
            [
             0.4,
             "#fde0ef"
            ],
            [
             0.5,
             "#f7f7f7"
            ],
            [
             0.6,
             "#e6f5d0"
            ],
            [
             0.7,
             "#b8e186"
            ],
            [
             0.8,
             "#7fbc41"
            ],
            [
             0.9,
             "#4d9221"
            ],
            [
             1,
             "#276419"
            ]
           ],
           "sequential": [
            [
             0,
             "#0d0887"
            ],
            [
             0.1111111111111111,
             "#46039f"
            ],
            [
             0.2222222222222222,
             "#7201a8"
            ],
            [
             0.3333333333333333,
             "#9c179e"
            ],
            [
             0.4444444444444444,
             "#bd3786"
            ],
            [
             0.5555555555555556,
             "#d8576b"
            ],
            [
             0.6666666666666666,
             "#ed7953"
            ],
            [
             0.7777777777777778,
             "#fb9f3a"
            ],
            [
             0.8888888888888888,
             "#fdca26"
            ],
            [
             1,
             "#f0f921"
            ]
           ],
           "sequentialminus": [
            [
             0,
             "#0d0887"
            ],
            [
             0.1111111111111111,
             "#46039f"
            ],
            [
             0.2222222222222222,
             "#7201a8"
            ],
            [
             0.3333333333333333,
             "#9c179e"
            ],
            [
             0.4444444444444444,
             "#bd3786"
            ],
            [
             0.5555555555555556,
             "#d8576b"
            ],
            [
             0.6666666666666666,
             "#ed7953"
            ],
            [
             0.7777777777777778,
             "#fb9f3a"
            ],
            [
             0.8888888888888888,
             "#fdca26"
            ],
            [
             1,
             "#f0f921"
            ]
           ]
          },
          "colorway": [
           "#636efa",
           "#EF553B",
           "#00cc96",
           "#ab63fa",
           "#FFA15A",
           "#19d3f3",
           "#FF6692",
           "#B6E880",
           "#FF97FF",
           "#FECB52"
          ],
          "font": {
           "color": "#2a3f5f"
          },
          "geo": {
           "bgcolor": "white",
           "lakecolor": "white",
           "landcolor": "#E5ECF6",
           "showlakes": true,
           "showland": true,
           "subunitcolor": "white"
          },
          "hoverlabel": {
           "align": "left"
          },
          "hovermode": "closest",
          "mapbox": {
           "style": "light"
          },
          "paper_bgcolor": "white",
          "plot_bgcolor": "#E5ECF6",
          "polar": {
           "angularaxis": {
            "gridcolor": "white",
            "linecolor": "white",
            "ticks": ""
           },
           "bgcolor": "#E5ECF6",
           "radialaxis": {
            "gridcolor": "white",
            "linecolor": "white",
            "ticks": ""
           }
          },
          "scene": {
           "xaxis": {
            "backgroundcolor": "#E5ECF6",
            "gridcolor": "white",
            "gridwidth": 2,
            "linecolor": "white",
            "showbackground": true,
            "ticks": "",
            "zerolinecolor": "white"
           },
           "yaxis": {
            "backgroundcolor": "#E5ECF6",
            "gridcolor": "white",
            "gridwidth": 2,
            "linecolor": "white",
            "showbackground": true,
            "ticks": "",
            "zerolinecolor": "white"
           },
           "zaxis": {
            "backgroundcolor": "#E5ECF6",
            "gridcolor": "white",
            "gridwidth": 2,
            "linecolor": "white",
            "showbackground": true,
            "ticks": "",
            "zerolinecolor": "white"
           }
          },
          "shapedefaults": {
           "line": {
            "color": "#2a3f5f"
           }
          },
          "ternary": {
           "aaxis": {
            "gridcolor": "white",
            "linecolor": "white",
            "ticks": ""
           },
           "baxis": {
            "gridcolor": "white",
            "linecolor": "white",
            "ticks": ""
           },
           "bgcolor": "#E5ECF6",
           "caxis": {
            "gridcolor": "white",
            "linecolor": "white",
            "ticks": ""
           }
          },
          "title": {
           "x": 0.05
          },
          "xaxis": {
           "automargin": true,
           "gridcolor": "white",
           "linecolor": "white",
           "ticks": "",
           "title": {
            "standoff": 15
           },
           "zerolinecolor": "white",
           "zerolinewidth": 2
          },
          "yaxis": {
           "automargin": true,
           "gridcolor": "white",
           "linecolor": "white",
           "ticks": "",
           "title": {
            "standoff": 15
           },
           "zerolinecolor": "white",
           "zerolinewidth": 2
          }
         }
        },
        "title": {
         "text": "Top 5 over the years"
        },
        "width": 2500,
        "xaxis": {
         "anchor": "y",
         "domain": [
          0,
          1
         ],
         "tickangle": -45,
         "title": {
          "text": "title_year"
         }
        },
        "yaxis": {
         "anchor": "x",
         "domain": [
          0,
          1
         ],
         "title": {
          "text": "av_rating"
         }
        }
       }
      },
      "text/html": [
       "<div>                            <div id=\"5599848b-3fef-428e-b1ef-3a2c53d62d41\" class=\"plotly-graph-div\" style=\"height:500px; width:2500px;\"></div>            <script type=\"text/javascript\">                require([\"plotly\"], function(Plotly) {                    window.PLOTLYENV=window.PLOTLYENV || {};                                    if (document.getElementById(\"5599848b-3fef-428e-b1ef-3a2c53d62d41\")) {                    Plotly.newPlot(                        \"5599848b-3fef-428e-b1ef-3a2c53d62d41\",                        [{\"alignmentgroup\":\"True\",\"hovertemplate\":\"year_str=1990<br>title_year=%{x}<br>av_rating=%{y}<extra></extra>\",\"legendgroup\":\"1990\",\"marker\":{\"color\":\"#636efa\",\"pattern\":{\"shape\":\"\"}},\"name\":\"1990\",\"offsetgroup\":\"1990\",\"orientation\":\"v\",\"showlegend\":true,\"textposition\":\"auto\",\"x\":[\"1990 - Parenthood\",\"1990 - L.A. Law\",\"1990 - Santa Barbara\",\"1990 - The Outsiders\",\"1990 - Twin Peaks\"],\"xaxis\":\"x\",\"y\":[9.6824,9.4,9.4,8.9,8.7429],\"yaxis\":\"y\",\"type\":\"bar\"},{\"alignmentgroup\":\"True\",\"hovertemplate\":\"year_str=1991<br>title_year=%{x}<br>av_rating=%{y}<extra></extra>\",\"legendgroup\":\"1991\",\"marker\":{\"color\":\"#EF553B\",\"pattern\":{\"shape\":\"\"}},\"name\":\"1991\",\"offsetgroup\":\"1991\",\"orientation\":\"v\",\"showlegend\":true,\"textposition\":\"auto\",\"x\":[\"1991 - L.A. Law\",\"1991 - Northern Exposure\",\"1991 - The Wonder Years\",\"1991 - Twin Peaks\",\"1991 - American Playhouse\"],\"xaxis\":\"x\",\"y\":[9.3,8.7038,8.5049,8.4187,8.4],\"yaxis\":\"y\",\"type\":\"bar\"},{\"alignmentgroup\":\"True\",\"hovertemplate\":\"year_str=1992<br>title_year=%{x}<br>av_rating=%{y}<extra></extra>\",\"legendgroup\":\"1992\",\"marker\":{\"color\":\"#00cc96\",\"pattern\":{\"shape\":\"\"}},\"name\":\"1992\",\"offsetgroup\":\"1992\",\"orientation\":\"v\",\"showlegend\":true,\"textposition\":\"auto\",\"x\":[\"1992 - Northern Exposure\",\"1992 - The Wonder Years\",\"1992 - Quantum Leap\",\"1992 - Cheers\",\"1992 - Law & Order\"],\"xaxis\":\"x\",\"y\":[8.6019,8.2858,7.883,7.7525,7.637800000000001],\"yaxis\":\"y\",\"type\":\"bar\"},{\"alignmentgroup\":\"True\",\"hovertemplate\":\"year_str=1993<br>title_year=%{x}<br>av_rating=%{y}<extra></extra>\",\"legendgroup\":\"1993\",\"marker\":{\"color\":\"#ab63fa\",\"pattern\":{\"shape\":\"\"}},\"name\":\"1993\",\"offsetgroup\":\"1993\",\"orientation\":\"v\",\"showlegend\":true,\"textposition\":\"auto\",\"x\":[\"1993 - Are You Afraid of the Dark?\",\"1993 - Return to Lonesome Dove\",\"1993 - NYPD Blue\",\"1993 - Homicide: Life on the Street\",\"1993 - Cheers\"],\"xaxis\":\"x\",\"y\":[9.2043,8.9671,8.3153,8.3121,7.9578],\"yaxis\":\"y\",\"type\":\"bar\"},{\"alignmentgroup\":\"True\",\"hovertemplate\":\"year_str=1994<br>title_year=%{x}<br>av_rating=%{y}<extra></extra>\",\"legendgroup\":\"1994\",\"marker\":{\"color\":\"#FFA15A\",\"pattern\":{\"shape\":\"\"}},\"name\":\"1994\",\"offsetgroup\":\"1994\",\"orientation\":\"v\",\"showlegend\":true,\"textposition\":\"auto\",\"x\":[\"1994 - Are You Afraid of the Dark?\",\"1994 - Homicide: Life on the Street\",\"1994 - The Critic\",\"1994 - My So-Called Life\",\"1994 - The Kingdom\"],\"xaxis\":\"x\",\"y\":[9.3723,8.729099999999999,8.6,8.5152,8.0295],\"yaxis\":\"y\",\"type\":\"bar\"},{\"alignmentgroup\":\"True\",\"hovertemplate\":\"year_str=1995<br>title_year=%{x}<br>av_rating=%{y}<extra></extra>\",\"legendgroup\":\"1995\",\"marker\":{\"color\":\"#19d3f3\",\"pattern\":{\"shape\":\"\"}},\"name\":\"1995\",\"offsetgroup\":\"1995\",\"orientation\":\"v\",\"showlegend\":true,\"textposition\":\"auto\",\"x\":[\"1995 - Homicide: Life on the Street\",\"1995 - Strange Luck\",\"1995 - Are You Afraid of the Dark?\",\"1995 - Pride and Prejudice\",\"1995 - The X-Files\"],\"xaxis\":\"x\",\"y\":[9.1,9.0,8.9533,8.2608,8.1062],\"yaxis\":\"y\",\"type\":\"bar\"},{\"alignmentgroup\":\"True\",\"hovertemplate\":\"year_str=1996<br>title_year=%{x}<br>av_rating=%{y}<extra></extra>\",\"legendgroup\":\"1996\",\"marker\":{\"color\":\"#FF6692\",\"pattern\":{\"shape\":\"\"}},\"name\":\"1996\",\"offsetgroup\":\"1996\",\"orientation\":\"v\",\"showlegend\":true,\"textposition\":\"auto\",\"x\":[\"1996 - EZ Streets\",\"1996 - Babylon 5\",\"1996 - Hey Arnold!\",\"1996 - The X-Files\",\"1996 - Neon Genesis Evangelion\"],\"xaxis\":\"x\",\"y\":[8.9,8.462,8.4119,8.2933,8.2508],\"yaxis\":\"y\",\"type\":\"bar\"},{\"alignmentgroup\":\"True\",\"hovertemplate\":\"year_str=1997<br>title_year=%{x}<br>av_rating=%{y}<extra></extra>\",\"legendgroup\":\"1997\",\"marker\":{\"color\":\"#B6E880\",\"pattern\":{\"shape\":\"\"}},\"name\":\"1997\",\"offsetgroup\":\"1997\",\"orientation\":\"v\",\"showlegend\":true,\"textposition\":\"auto\",\"x\":[\"1997 - Homicide: Life on the Street\",\"1997 - Oz\",\"1997 - Pacific Blue\",\"1997 - Babylon 5\",\"1997 - Boy Meets World\"],\"xaxis\":\"x\",\"y\":[9.6,8.6195,8.5,8.4828,8.2971],\"yaxis\":\"y\",\"type\":\"bar\"},{\"alignmentgroup\":\"True\",\"hovertemplate\":\"year_str=1998<br>title_year=%{x}<br>av_rating=%{y}<extra></extra>\",\"legendgroup\":\"1998\",\"marker\":{\"color\":\"#FF97FF\",\"pattern\":{\"shape\":\"\"}},\"name\":\"1998\",\"offsetgroup\":\"1998\",\"orientation\":\"v\",\"showlegend\":true,\"textposition\":\"auto\",\"x\":[\"1998 - Touched by an Angel\",\"1998 - The X-Files\",\"1998 - Boy Meets World\",\"1998 - Felicity\",\"1998 - Oz\"],\"xaxis\":\"x\",\"y\":[9.6,8.4239,8.3747,8.3,8.2769],\"yaxis\":\"y\",\"type\":\"bar\"},{\"alignmentgroup\":\"True\",\"hovertemplate\":\"year_str=1999<br>title_year=%{x}<br>av_rating=%{y}<extra></extra>\",\"legendgroup\":\"1999\",\"marker\":{\"color\":\"#FECB52\",\"pattern\":{\"shape\":\"\"}},\"name\":\"1999\",\"offsetgroup\":\"1999\",\"orientation\":\"v\",\"showlegend\":true,\"textposition\":\"auto\",\"x\":[\"1999 - The Sopranos\",\"1999 - Buffy the Vampire Slayer\",\"1999 - The West Wing\",\"1999 - Oz\",\"1999 - The X-Files\"],\"xaxis\":\"x\",\"y\":[8.7453,8.6233,8.6148,8.5393,8.418],\"yaxis\":\"y\",\"type\":\"bar\"},{\"alignmentgroup\":\"True\",\"hovertemplate\":\"year_str=2000<br>title_year=%{x}<br>av_rating=%{y}<extra></extra>\",\"legendgroup\":\"2000\",\"marker\":{\"color\":\"#636efa\",\"pattern\":{\"shape\":\"\"}},\"name\":\"2000\",\"offsetgroup\":\"2000\",\"orientation\":\"v\",\"showlegend\":true,\"textposition\":\"auto\",\"x\":[\"2000 - Freaks and Geeks\",\"2000 - Law & Order: Special Victims Unit\",\"2000 - The Sopranos\",\"2000 - Oz\",\"2000 - The Corner\"],\"xaxis\":\"x\",\"y\":[8.805,8.7941,8.761,8.6132,8.5538],\"yaxis\":\"y\",\"type\":\"bar\"},{\"alignmentgroup\":\"True\",\"hovertemplate\":\"year_str=2001<br>title_year=%{x}<br>av_rating=%{y}<extra></extra>\",\"legendgroup\":\"2001\",\"marker\":{\"color\":\"#EF553B\",\"pattern\":{\"shape\":\"\"}},\"name\":\"2001\",\"offsetgroup\":\"2001\",\"orientation\":\"v\",\"showlegend\":true,\"textposition\":\"auto\",\"x\":[\"2001 - The Sopranos\",\"2001 - Law & Order: Special Victims Unit\",\"2001 - The West Wing\",\"2001 - Queer as Folk\",\"2001 - Band of Brothers\"],\"xaxis\":\"x\",\"y\":[8.8828,8.8658,8.8406,8.8202,8.6848],\"yaxis\":\"y\",\"type\":\"bar\"},{\"alignmentgroup\":\"True\",\"hovertemplate\":\"year_str=2002<br>title_year=%{x}<br>av_rating=%{y}<extra></extra>\",\"legendgroup\":\"2002\",\"marker\":{\"color\":\"#00cc96\",\"pattern\":{\"shape\":\"\"}},\"name\":\"2002\",\"offsetgroup\":\"2002\",\"orientation\":\"v\",\"showlegend\":true,\"textposition\":\"auto\",\"x\":[\"2002 - Law & Order: Special Victims Unit\",\"2002 - Hey Arnold!\",\"2002 - John Doe\",\"2002 - Firefly\",\"2002 - Queer as Folk\"],\"xaxis\":\"x\",\"y\":[8.9148,8.8,8.8,8.6716,8.6326],\"yaxis\":\"y\",\"type\":\"bar\"},{\"alignmentgroup\":\"True\",\"hovertemplate\":\"year_str=2003<br>title_year=%{x}<br>av_rating=%{y}<extra></extra>\",\"legendgroup\":\"2003\",\"marker\":{\"color\":\"#ab63fa\",\"pattern\":{\"shape\":\"\"}},\"name\":\"2003\",\"offsetgroup\":\"2003\",\"orientation\":\"v\",\"showlegend\":true,\"textposition\":\"auto\",\"x\":[\"2003 - Law & Order: Special Victims Unit\",\"2003 - 24\",\"2003 - The District\",\"2003 - 8 Simple Rules\",\"2003 - Oz\"],\"xaxis\":\"x\",\"y\":[8.9431,8.7028,8.6761,8.6,8.5751],\"yaxis\":\"y\",\"type\":\"bar\"},{\"alignmentgroup\":\"True\",\"hovertemplate\":\"year_str=2004<br>title_year=%{x}<br>av_rating=%{y}<extra></extra>\",\"legendgroup\":\"2004\",\"marker\":{\"color\":\"#FFA15A\",\"pattern\":{\"shape\":\"\"}},\"name\":\"2004\",\"offsetgroup\":\"2004\",\"orientation\":\"v\",\"showlegend\":true,\"textposition\":\"auto\",\"x\":[\"2004 - Karen Sisco\",\"2004 - Law & Order: Special Victims Unit\",\"2004 - Angel\",\"2004 - Crossing Jordan\",\"2004 - The Sopranos\"],\"xaxis\":\"x\",\"y\":[9.0,8.9025,8.8922,8.8,8.7864],\"yaxis\":\"y\",\"type\":\"bar\"},{\"alignmentgroup\":\"True\",\"hovertemplate\":\"year_str=2005<br>title_year=%{x}<br>av_rating=%{y}<extra></extra>\",\"legendgroup\":\"2005\",\"marker\":{\"color\":\"#19d3f3\",\"pattern\":{\"shape\":\"\"}},\"name\":\"2005\",\"offsetgroup\":\"2005\",\"orientation\":\"v\",\"showlegend\":true,\"textposition\":\"auto\",\"x\":[\"2005 - Third Watch\",\"2005 - JAG\",\"2005 - Prison Break\",\"2005 - Law & Order: Special Victims Unit\",\"2005 - Six Feet Under\"],\"xaxis\":\"x\",\"y\":[9.4,9.0,8.9562,8.9446,8.9258],\"yaxis\":\"y\",\"type\":\"bar\"},{\"alignmentgroup\":\"True\",\"hovertemplate\":\"year_str=2006<br>title_year=%{x}<br>av_rating=%{y}<extra></extra>\",\"legendgroup\":\"2006\",\"marker\":{\"color\":\"#FF6692\",\"pattern\":{\"shape\":\"\"}},\"name\":\"2006\",\"offsetgroup\":\"2006\",\"orientation\":\"v\",\"showlegend\":true,\"textposition\":\"auto\",\"x\":[\"2006 - One Tree Hill\",\"2006 - Dexter\",\"2006 - Law & Order: Special Victims Unit\",\"2006 - Grey's Anatomy\",\"2006 - 24\"],\"xaxis\":\"x\",\"y\":[9.0502,8.9229,8.91855,8.7868,8.7828],\"yaxis\":\"y\",\"type\":\"bar\"},{\"alignmentgroup\":\"True\",\"hovertemplate\":\"year_str=2007<br>title_year=%{x}<br>av_rating=%{y}<extra></extra>\",\"legendgroup\":\"2007\",\"marker\":{\"color\":\"#B6E880\",\"pattern\":{\"shape\":\"\"}},\"name\":\"2007\",\"offsetgroup\":\"2007\",\"orientation\":\"v\",\"showlegend\":true,\"textposition\":\"auto\",\"x\":[\"2007 - One Tree Hill\",\"2007 - Dexter\",\"2007 - Law & Order: Special Victims Unit\",\"2007 - Supernatural\",\"2007 - Lost\"],\"xaxis\":\"x\",\"y\":[9.0517,8.9288,8.8891,8.8329,8.7549],\"yaxis\":\"y\",\"type\":\"bar\"},{\"alignmentgroup\":\"True\",\"hovertemplate\":\"year_str=2008<br>title_year=%{x}<br>av_rating=%{y}<extra></extra>\",\"legendgroup\":\"2008\",\"marker\":{\"color\":\"#FF97FF\",\"pattern\":{\"shape\":\"\"}},\"name\":\"2008\",\"offsetgroup\":\"2008\",\"orientation\":\"v\",\"showlegend\":true,\"textposition\":\"auto\",\"x\":[\"2008 - House\",\"2008 - Lost\",\"2008 - One Tree Hill\",\"2008 - Supernatural\",\"2008 - Breaking Bad\"],\"xaxis\":\"x\",\"y\":[9.0595,8.9385,8.820900000000002,8.7794,8.711],\"yaxis\":\"y\",\"type\":\"bar\"},{\"alignmentgroup\":\"True\",\"hovertemplate\":\"year_str=2009<br>title_year=%{x}<br>av_rating=%{y}<extra></extra>\",\"legendgroup\":\"2009\",\"marker\":{\"color\":\"#FECB52\",\"pattern\":{\"shape\":\"\"}},\"name\":\"2009\",\"offsetgroup\":\"2009\",\"orientation\":\"v\",\"showlegend\":true,\"textposition\":\"auto\",\"x\":[\"2009 - Dexter\",\"2009 - Grey's Anatomy\",\"2009 - Law & Order: Special Victims Unit\",\"2009 - Supernatural\",\"2009 - Torchwood\"],\"xaxis\":\"x\",\"y\":[9.1477,8.9359,8.9351,8.9288,8.9243],\"yaxis\":\"y\",\"type\":\"bar\"},{\"alignmentgroup\":\"True\",\"hovertemplate\":\"year_str=2010<br>title_year=%{x}<br>av_rating=%{y}<extra></extra>\",\"legendgroup\":\"2010\",\"marker\":{\"color\":\"#636efa\",\"pattern\":{\"shape\":\"\"}},\"name\":\"2010\",\"offsetgroup\":\"2010\",\"orientation\":\"v\",\"showlegend\":true,\"textposition\":\"auto\",\"x\":[\"2010 - The Fugitive Chronicles\",\"2010 - Supernatural\",\"2010 - Chuck\",\"2010 - Law & Order: Special Victims Unit\",\"2010 - Mad Men\"],\"xaxis\":\"x\",\"y\":[9.2,9.075,8.9672,8.886,8.8468],\"yaxis\":\"y\",\"type\":\"bar\"},{\"alignmentgroup\":\"True\",\"hovertemplate\":\"year_str=2011<br>title_year=%{x}<br>av_rating=%{y}<extra></extra>\",\"legendgroup\":\"2011\",\"marker\":{\"color\":\"#EF553B\",\"pattern\":{\"shape\":\"\"}},\"name\":\"2011\",\"offsetgroup\":\"2011\",\"orientation\":\"v\",\"showlegend\":true,\"textposition\":\"auto\",\"x\":[\"2011 - Greek\",\"2011 - Rescue Me\",\"2011 - Game of Thrones\",\"2011 - Breaking Bad\",\"2011 - Brothers & Sisters\"],\"xaxis\":\"x\",\"y\":[9.4,9.2,9.1268,9.1069,9.1],\"yaxis\":\"y\",\"type\":\"bar\"},{\"alignmentgroup\":\"True\",\"hovertemplate\":\"year_str=2012<br>title_year=%{x}<br>av_rating=%{y}<extra></extra>\",\"legendgroup\":\"2012\",\"marker\":{\"color\":\"#00cc96\",\"pattern\":{\"shape\":\"\"}},\"name\":\"2012\",\"offsetgroup\":\"2012\",\"orientation\":\"v\",\"showlegend\":true,\"textposition\":\"auto\",\"x\":[\"2012 - Sherlock\",\"2012 - Game of Thrones\",\"2012 - One Tree Hill\",\"2012 - Dexter\",\"2012 - Hustle\"],\"xaxis\":\"x\",\"y\":[9.3184,9.0852,8.9767,8.9068,8.9],\"yaxis\":\"y\",\"type\":\"bar\"},{\"alignmentgroup\":\"True\",\"hovertemplate\":\"year_str=2013<br>title_year=%{x}<br>av_rating=%{y}<extra></extra>\",\"legendgroup\":\"2013\",\"marker\":{\"color\":\"#ab63fa\",\"pattern\":{\"shape\":\"\"}},\"name\":\"2013\",\"offsetgroup\":\"2013\",\"orientation\":\"v\",\"showlegend\":true,\"textposition\":\"auto\",\"x\":[\"2013 - Breaking Bad\",\"2013 - Game of Thrones\",\"2013 - Teen Wolf\",\"2013 - Person of Interest\",\"2013 - Switched at Birth\"],\"xaxis\":\"x\",\"y\":[9.554,9.2876,9.0827,9.0027,8.9658],\"yaxis\":\"y\",\"type\":\"bar\"},{\"alignmentgroup\":\"True\",\"hovertemplate\":\"year_str=2014<br>title_year=%{x}<br>av_rating=%{y}<extra></extra>\",\"legendgroup\":\"2014\",\"marker\":{\"color\":\"#FFA15A\",\"pattern\":{\"shape\":\"\"}},\"name\":\"2014\",\"offsetgroup\":\"2014\",\"orientation\":\"v\",\"showlegend\":true,\"textposition\":\"auto\",\"x\":[\"2014 - Game of Thrones\",\"2014 - When Calls the Heart\",\"2014 - True Detective\",\"2014 - Hannibal\",\"2014 - Person of Interest\"],\"xaxis\":\"x\",\"y\":[9.4282,9.3765,9.3313,9.2883,9.2324],\"yaxis\":\"y\",\"type\":\"bar\"},{\"alignmentgroup\":\"True\",\"hovertemplate\":\"year_str=2015<br>title_year=%{x}<br>av_rating=%{y}<extra></extra>\",\"legendgroup\":\"2015\",\"marker\":{\"color\":\"#19d3f3\",\"pattern\":{\"shape\":\"\"}},\"name\":\"2015\",\"offsetgroup\":\"2015\",\"orientation\":\"v\",\"showlegend\":true,\"textposition\":\"auto\",\"x\":[\"2015 - When Calls the Heart\",\"2015 - Suits\",\"2015 - The Leftovers\",\"2015 - Wentworth\",\"2015 - Code Black\"],\"xaxis\":\"x\",\"y\":[9.3873,9.3501,9.2501,9.233,9.2223],\"yaxis\":\"y\",\"type\":\"bar\"},{\"alignmentgroup\":\"True\",\"hovertemplate\":\"year_str=2016<br>title_year=%{x}<br>av_rating=%{y}<extra></extra>\",\"legendgroup\":\"2016\",\"marker\":{\"color\":\"#FF6692\",\"pattern\":{\"shape\":\"\"}},\"name\":\"2016\",\"offsetgroup\":\"2016\",\"orientation\":\"v\",\"showlegend\":true,\"textposition\":\"auto\",\"x\":[\"2016 - Game of Thrones\",\"2016 - When Calls the Heart\",\"2016 - Person of Interest\",\"2016 - Wentworth\",\"2016 - Code Black\"],\"xaxis\":\"x\",\"y\":[9.4943,9.3239,9.3189,9.2945,9.2572],\"yaxis\":\"y\",\"type\":\"bar\"},{\"alignmentgroup\":\"True\",\"hovertemplate\":\"year_str=2017<br>title_year=%{x}<br>av_rating=%{y}<extra></extra>\",\"legendgroup\":\"2017\",\"marker\":{\"color\":\"#B6E880\",\"pattern\":{\"shape\":\"\"}},\"name\":\"2017\",\"offsetgroup\":\"2017\",\"orientation\":\"v\",\"showlegend\":true,\"textposition\":\"auto\",\"x\":[\"2017 - Kingdom\",\"2017 - Game of Thrones\",\"2017 - Mr. Robot\",\"2017 - The Leftovers\",\"2017 - Peaky Blinders\"],\"xaxis\":\"x\",\"y\":[9.3769,9.3014,9.28,9.2791,9.1801],\"yaxis\":\"y\",\"type\":\"bar\"},{\"alignmentgroup\":\"True\",\"hovertemplate\":\"year_str=2018<br>title_year=%{x}<br>av_rating=%{y}<extra></extra>\",\"legendgroup\":\"2018\",\"marker\":{\"color\":\"#FF97FF\",\"pattern\":{\"shape\":\"\"}},\"name\":\"2018\",\"offsetgroup\":\"2018\",\"orientation\":\"v\",\"showlegend\":true,\"textposition\":\"auto\",\"x\":[\"2018 - BoJack Horseman\",\"2018 - The Americans\",\"2018 - The Expanse\",\"2018 - 12 Monkeys\",\"2018 - The 100\"],\"xaxis\":\"x\",\"y\":[9.4738,9.2232,9.1892,9.1363,9.0654],\"yaxis\":\"y\",\"type\":\"bar\"}],                        {\"template\":{\"data\":{\"histogram2dcontour\":[{\"type\":\"histogram2dcontour\",\"colorbar\":{\"outlinewidth\":0,\"ticks\":\"\"},\"colorscale\":[[0.0,\"#0d0887\"],[0.1111111111111111,\"#46039f\"],[0.2222222222222222,\"#7201a8\"],[0.3333333333333333,\"#9c179e\"],[0.4444444444444444,\"#bd3786\"],[0.5555555555555556,\"#d8576b\"],[0.6666666666666666,\"#ed7953\"],[0.7777777777777778,\"#fb9f3a\"],[0.8888888888888888,\"#fdca26\"],[1.0,\"#f0f921\"]]}],\"choropleth\":[{\"type\":\"choropleth\",\"colorbar\":{\"outlinewidth\":0,\"ticks\":\"\"}}],\"histogram2d\":[{\"type\":\"histogram2d\",\"colorbar\":{\"outlinewidth\":0,\"ticks\":\"\"},\"colorscale\":[[0.0,\"#0d0887\"],[0.1111111111111111,\"#46039f\"],[0.2222222222222222,\"#7201a8\"],[0.3333333333333333,\"#9c179e\"],[0.4444444444444444,\"#bd3786\"],[0.5555555555555556,\"#d8576b\"],[0.6666666666666666,\"#ed7953\"],[0.7777777777777778,\"#fb9f3a\"],[0.8888888888888888,\"#fdca26\"],[1.0,\"#f0f921\"]]}],\"heatmap\":[{\"type\":\"heatmap\",\"colorbar\":{\"outlinewidth\":0,\"ticks\":\"\"},\"colorscale\":[[0.0,\"#0d0887\"],[0.1111111111111111,\"#46039f\"],[0.2222222222222222,\"#7201a8\"],[0.3333333333333333,\"#9c179e\"],[0.4444444444444444,\"#bd3786\"],[0.5555555555555556,\"#d8576b\"],[0.6666666666666666,\"#ed7953\"],[0.7777777777777778,\"#fb9f3a\"],[0.8888888888888888,\"#fdca26\"],[1.0,\"#f0f921\"]]}],\"heatmapgl\":[{\"type\":\"heatmapgl\",\"colorbar\":{\"outlinewidth\":0,\"ticks\":\"\"},\"colorscale\":[[0.0,\"#0d0887\"],[0.1111111111111111,\"#46039f\"],[0.2222222222222222,\"#7201a8\"],[0.3333333333333333,\"#9c179e\"],[0.4444444444444444,\"#bd3786\"],[0.5555555555555556,\"#d8576b\"],[0.6666666666666666,\"#ed7953\"],[0.7777777777777778,\"#fb9f3a\"],[0.8888888888888888,\"#fdca26\"],[1.0,\"#f0f921\"]]}],\"contourcarpet\":[{\"type\":\"contourcarpet\",\"colorbar\":{\"outlinewidth\":0,\"ticks\":\"\"}}],\"contour\":[{\"type\":\"contour\",\"colorbar\":{\"outlinewidth\":0,\"ticks\":\"\"},\"colorscale\":[[0.0,\"#0d0887\"],[0.1111111111111111,\"#46039f\"],[0.2222222222222222,\"#7201a8\"],[0.3333333333333333,\"#9c179e\"],[0.4444444444444444,\"#bd3786\"],[0.5555555555555556,\"#d8576b\"],[0.6666666666666666,\"#ed7953\"],[0.7777777777777778,\"#fb9f3a\"],[0.8888888888888888,\"#fdca26\"],[1.0,\"#f0f921\"]]}],\"surface\":[{\"type\":\"surface\",\"colorbar\":{\"outlinewidth\":0,\"ticks\":\"\"},\"colorscale\":[[0.0,\"#0d0887\"],[0.1111111111111111,\"#46039f\"],[0.2222222222222222,\"#7201a8\"],[0.3333333333333333,\"#9c179e\"],[0.4444444444444444,\"#bd3786\"],[0.5555555555555556,\"#d8576b\"],[0.6666666666666666,\"#ed7953\"],[0.7777777777777778,\"#fb9f3a\"],[0.8888888888888888,\"#fdca26\"],[1.0,\"#f0f921\"]]}],\"mesh3d\":[{\"type\":\"mesh3d\",\"colorbar\":{\"outlinewidth\":0,\"ticks\":\"\"}}],\"scatter\":[{\"fillpattern\":{\"fillmode\":\"overlay\",\"size\":10,\"solidity\":0.2},\"type\":\"scatter\"}],\"parcoords\":[{\"type\":\"parcoords\",\"line\":{\"colorbar\":{\"outlinewidth\":0,\"ticks\":\"\"}}}],\"scatterpolargl\":[{\"type\":\"scatterpolargl\",\"marker\":{\"colorbar\":{\"outlinewidth\":0,\"ticks\":\"\"}}}],\"bar\":[{\"error_x\":{\"color\":\"#2a3f5f\"},\"error_y\":{\"color\":\"#2a3f5f\"},\"marker\":{\"line\":{\"color\":\"#E5ECF6\",\"width\":0.5},\"pattern\":{\"fillmode\":\"overlay\",\"size\":10,\"solidity\":0.2}},\"type\":\"bar\"}],\"scattergeo\":[{\"type\":\"scattergeo\",\"marker\":{\"colorbar\":{\"outlinewidth\":0,\"ticks\":\"\"}}}],\"scatterpolar\":[{\"type\":\"scatterpolar\",\"marker\":{\"colorbar\":{\"outlinewidth\":0,\"ticks\":\"\"}}}],\"histogram\":[{\"marker\":{\"pattern\":{\"fillmode\":\"overlay\",\"size\":10,\"solidity\":0.2}},\"type\":\"histogram\"}],\"scattergl\":[{\"type\":\"scattergl\",\"marker\":{\"colorbar\":{\"outlinewidth\":0,\"ticks\":\"\"}}}],\"scatter3d\":[{\"type\":\"scatter3d\",\"line\":{\"colorbar\":{\"outlinewidth\":0,\"ticks\":\"\"}},\"marker\":{\"colorbar\":{\"outlinewidth\":0,\"ticks\":\"\"}}}],\"scattermapbox\":[{\"type\":\"scattermapbox\",\"marker\":{\"colorbar\":{\"outlinewidth\":0,\"ticks\":\"\"}}}],\"scatterternary\":[{\"type\":\"scatterternary\",\"marker\":{\"colorbar\":{\"outlinewidth\":0,\"ticks\":\"\"}}}],\"scattercarpet\":[{\"type\":\"scattercarpet\",\"marker\":{\"colorbar\":{\"outlinewidth\":0,\"ticks\":\"\"}}}],\"carpet\":[{\"aaxis\":{\"endlinecolor\":\"#2a3f5f\",\"gridcolor\":\"white\",\"linecolor\":\"white\",\"minorgridcolor\":\"white\",\"startlinecolor\":\"#2a3f5f\"},\"baxis\":{\"endlinecolor\":\"#2a3f5f\",\"gridcolor\":\"white\",\"linecolor\":\"white\",\"minorgridcolor\":\"white\",\"startlinecolor\":\"#2a3f5f\"},\"type\":\"carpet\"}],\"table\":[{\"cells\":{\"fill\":{\"color\":\"#EBF0F8\"},\"line\":{\"color\":\"white\"}},\"header\":{\"fill\":{\"color\":\"#C8D4E3\"},\"line\":{\"color\":\"white\"}},\"type\":\"table\"}],\"barpolar\":[{\"marker\":{\"line\":{\"color\":\"#E5ECF6\",\"width\":0.5},\"pattern\":{\"fillmode\":\"overlay\",\"size\":10,\"solidity\":0.2}},\"type\":\"barpolar\"}],\"pie\":[{\"automargin\":true,\"type\":\"pie\"}]},\"layout\":{\"autotypenumbers\":\"strict\",\"colorway\":[\"#636efa\",\"#EF553B\",\"#00cc96\",\"#ab63fa\",\"#FFA15A\",\"#19d3f3\",\"#FF6692\",\"#B6E880\",\"#FF97FF\",\"#FECB52\"],\"font\":{\"color\":\"#2a3f5f\"},\"hovermode\":\"closest\",\"hoverlabel\":{\"align\":\"left\"},\"paper_bgcolor\":\"white\",\"plot_bgcolor\":\"#E5ECF6\",\"polar\":{\"bgcolor\":\"#E5ECF6\",\"angularaxis\":{\"gridcolor\":\"white\",\"linecolor\":\"white\",\"ticks\":\"\"},\"radialaxis\":{\"gridcolor\":\"white\",\"linecolor\":\"white\",\"ticks\":\"\"}},\"ternary\":{\"bgcolor\":\"#E5ECF6\",\"aaxis\":{\"gridcolor\":\"white\",\"linecolor\":\"white\",\"ticks\":\"\"},\"baxis\":{\"gridcolor\":\"white\",\"linecolor\":\"white\",\"ticks\":\"\"},\"caxis\":{\"gridcolor\":\"white\",\"linecolor\":\"white\",\"ticks\":\"\"}},\"coloraxis\":{\"colorbar\":{\"outlinewidth\":0,\"ticks\":\"\"}},\"colorscale\":{\"sequential\":[[0.0,\"#0d0887\"],[0.1111111111111111,\"#46039f\"],[0.2222222222222222,\"#7201a8\"],[0.3333333333333333,\"#9c179e\"],[0.4444444444444444,\"#bd3786\"],[0.5555555555555556,\"#d8576b\"],[0.6666666666666666,\"#ed7953\"],[0.7777777777777778,\"#fb9f3a\"],[0.8888888888888888,\"#fdca26\"],[1.0,\"#f0f921\"]],\"sequentialminus\":[[0.0,\"#0d0887\"],[0.1111111111111111,\"#46039f\"],[0.2222222222222222,\"#7201a8\"],[0.3333333333333333,\"#9c179e\"],[0.4444444444444444,\"#bd3786\"],[0.5555555555555556,\"#d8576b\"],[0.6666666666666666,\"#ed7953\"],[0.7777777777777778,\"#fb9f3a\"],[0.8888888888888888,\"#fdca26\"],[1.0,\"#f0f921\"]],\"diverging\":[[0,\"#8e0152\"],[0.1,\"#c51b7d\"],[0.2,\"#de77ae\"],[0.3,\"#f1b6da\"],[0.4,\"#fde0ef\"],[0.5,\"#f7f7f7\"],[0.6,\"#e6f5d0\"],[0.7,\"#b8e186\"],[0.8,\"#7fbc41\"],[0.9,\"#4d9221\"],[1,\"#276419\"]]},\"xaxis\":{\"gridcolor\":\"white\",\"linecolor\":\"white\",\"ticks\":\"\",\"title\":{\"standoff\":15},\"zerolinecolor\":\"white\",\"automargin\":true,\"zerolinewidth\":2},\"yaxis\":{\"gridcolor\":\"white\",\"linecolor\":\"white\",\"ticks\":\"\",\"title\":{\"standoff\":15},\"zerolinecolor\":\"white\",\"automargin\":true,\"zerolinewidth\":2},\"scene\":{\"xaxis\":{\"backgroundcolor\":\"#E5ECF6\",\"gridcolor\":\"white\",\"linecolor\":\"white\",\"showbackground\":true,\"ticks\":\"\",\"zerolinecolor\":\"white\",\"gridwidth\":2},\"yaxis\":{\"backgroundcolor\":\"#E5ECF6\",\"gridcolor\":\"white\",\"linecolor\":\"white\",\"showbackground\":true,\"ticks\":\"\",\"zerolinecolor\":\"white\",\"gridwidth\":2},\"zaxis\":{\"backgroundcolor\":\"#E5ECF6\",\"gridcolor\":\"white\",\"linecolor\":\"white\",\"showbackground\":true,\"ticks\":\"\",\"zerolinecolor\":\"white\",\"gridwidth\":2}},\"shapedefaults\":{\"line\":{\"color\":\"#2a3f5f\"}},\"annotationdefaults\":{\"arrowcolor\":\"#2a3f5f\",\"arrowhead\":0,\"arrowwidth\":1},\"geo\":{\"bgcolor\":\"white\",\"landcolor\":\"#E5ECF6\",\"subunitcolor\":\"white\",\"showland\":true,\"showlakes\":true,\"lakecolor\":\"white\"},\"title\":{\"x\":0.05},\"mapbox\":{\"style\":\"light\"}}},\"xaxis\":{\"anchor\":\"y\",\"domain\":[0.0,1.0],\"title\":{\"text\":\"title_year\"},\"tickangle\":-45},\"yaxis\":{\"anchor\":\"x\",\"domain\":[0.0,1.0],\"title\":{\"text\":\"av_rating\"}},\"legend\":{\"title\":{\"text\":\"year_str\"},\"tracegroupgap\":0},\"title\":{\"text\":\"Top 5 over the years\"},\"barmode\":\"relative\",\"width\":2500,\"height\":500},                        {\"responsive\": true}                    ).then(function(){\n",
       "                            \n",
       "var gd = document.getElementById('5599848b-3fef-428e-b1ef-3a2c53d62d41');\n",
       "var x = new MutationObserver(function (mutations, observer) {{\n",
       "        var display = window.getComputedStyle(gd).display;\n",
       "        if (!display || display === 'none') {{\n",
       "            console.log([gd, 'removed!']);\n",
       "            Plotly.purge(gd);\n",
       "            observer.disconnect();\n",
       "        }}\n",
       "}});\n",
       "\n",
       "// Listen for the removal of the full notebook cells\n",
       "var notebookContainer = gd.closest('#notebook-container');\n",
       "if (notebookContainer) {{\n",
       "    x.observe(notebookContainer, {childList: true});\n",
       "}}\n",
       "\n",
       "// Listen for the clearing of the current output cell\n",
       "var outputEl = gd.closest('.output');\n",
       "if (outputEl) {{\n",
       "    x.observe(outputEl, {childList: true});\n",
       "}}\n",
       "\n",
       "                        })                };                });            </script>        </div>"
      ]
     },
     "metadata": {},
     "output_type": "display_data"
    },
    {
     "name": "stdout",
     "output_type": "stream",
     "text": [
      "870\n"
     ]
    }
   ],
   "source": [
    "# Get top 5 rated per year\n",
    "year_perf = df.groupby([\"year\", \"title\", \"genres\"])[\"av_rating\"].mean().reset_index()\n",
    "\n",
    "year_perf = (\n",
    "    year_perf.groupby(['year', 'title'], as_index=False)\n",
    "    .agg({\n",
    "        'av_rating': 'mean',        # average rating if multiple entries per year\n",
    "        'genres': 'first'           # keep one genre label\n",
    "    })\n",
    ")\n",
    "\n",
    "# Select the top 5 shows per year based on average rating\n",
    "top5 = year_perf.groupby('year', group_keys=False).apply(\n",
    "    lambda g: g.nlargest(5, 'av_rating')\n",
    ").reset_index(drop=True)\n",
    "\n",
    "import plotly.express as px\n",
    "\n",
    "top5['title_year'] = top5['year'].astype(str) + \" - \" + top5['title']\n",
    "\n",
    "top5['year_str'] = top5['year'].astype(str)\n",
    "\n",
    "fig = px.bar(\n",
    "    top5,\n",
    "    x = 'title_year',\n",
    "    y='av_rating',\n",
    "    title='Top 5 over the years',\n",
    "    color='year_str',\n",
    ")\n",
    "\n",
    "fig.update_layout(\n",
    "    xaxis_tickangle=-45,\n",
    "    width=2500,\n",
    "    height=500,\n",
    ")\n",
    "\n",
    "fig.show()\n",
    "print(top5.size)\n",
    "\n",
    "# | label: fig-top5-by-year\n",
    "# | fig-cap: \"Bar chart showing the five highest-rated television shows for each year. \n",
    "#   Ratings are based on IMDb averages, illustrating which series defined audience preferences annually.\"\n"
   ]
  },
  {
   "cell_type": "markdown",
   "id": "01cb12a8",
   "metadata": {},
   "source": [
    "<div style=\"\n",
    "    min-height: 90vh;\n",
    "    padding: 20px;\n",
    "    border-radius: 15px;\n",
    "    background: linear-gradient(135deg, #d0ebf7, #f0fbfe);\n",
    "\">\n",
    "\n",
    "### Conclusion! \n",
    "\n",
    "---\n",
    "\n",
    "By looking at the populatiry of shows and genres over time, we can see the how society's taste in shows changes over time. Analysis of television ratings from 1990 to 2018 reveals a clear evolution in audience preferences and genre popularity. Early 1990s audiences favored family-centered dramas and comedies, exemplified by Parenthood and Are You Afraid of the Dark?, both achieving exceptionally high ratings. Over time, viewer tastes shifted toward complex, morally ambiguous narratives, with critically acclaimed titles such as Breaking Bad (2013) and Game of Thrones (2016) dominating later years.\n",
    "\n",
    "When evaluated across the entire dataset, the highest-rated genres were War, Sport, History, Fantasy, and Music, suggesting consistent appreciation for storytelling grounded in realism, human struggle, and historical or imaginative depth. The steadily rising ratings of Fantasy and Drama genres reflect growing cultural interest in escapism and intricate world-building, paralleling the rise of premium cable and streaming platforms that enabled higher production quality and serialized storytelling.\n",
    "\n",
    "Overall, the data indicate that societal taste has evolved from valuing light-hearted or family-oriented narratives toward favoring intense, cinematic, and thematically rich genres. This trend mirrors broader social shifts—such as increased political awareness, technological optimism, and the desire for emotionally and intellectually engaging entertainment."
   ]
  }
 ],
 "metadata": {
  "kernelspec": {
   "display_name": "Python 3 (ipykernel)",
   "language": "python",
   "name": "python3"
  },
  "language_info": {
   "codemirror_mode": {
    "name": "ipython",
    "version": 3
   },
   "file_extension": ".py",
   "mimetype": "text/x-python",
   "name": "python",
   "nbconvert_exporter": "python",
   "pygments_lexer": "ipython3",
   "version": "3.9.13"
  }
 },
 "nbformat": 4,
 "nbformat_minor": 5
}
